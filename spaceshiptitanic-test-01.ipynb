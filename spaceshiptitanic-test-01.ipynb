{
 "cells": [
  {
   "cell_type": "code",
   "execution_count": 1,
   "id": "3d812ca2",
   "metadata": {
    "_cell_guid": "b1076dfc-b9ad-4769-8c92-a6c4dae69d19",
    "_uuid": "8f2839f25d086af736a60e9eeb907d3b93b6e0e5",
    "execution": {
     "iopub.execute_input": "2022-04-01T08:45:40.492738Z",
     "iopub.status.busy": "2022-04-01T08:45:40.491320Z",
     "iopub.status.idle": "2022-04-01T08:45:40.505615Z",
     "shell.execute_reply": "2022-04-01T08:45:40.506372Z",
     "shell.execute_reply.started": "2022-04-01T05:08:44.513992Z"
    },
    "papermill": {
     "duration": 0.056965,
     "end_time": "2022-04-01T08:45:40.506716",
     "exception": false,
     "start_time": "2022-04-01T08:45:40.449751",
     "status": "completed"
    },
    "tags": []
   },
   "outputs": [
    {
     "name": "stdout",
     "output_type": "stream",
     "text": [
      "/kaggle/input/spaceship-titanic/sample_submission.csv\n",
      "/kaggle/input/spaceship-titanic/train.csv\n",
      "/kaggle/input/spaceship-titanic/test.csv\n"
     ]
    }
   ],
   "source": [
    "# This Python 3 environment comes with many helpful analytics libraries installed\n",
    "# It is defined by the kaggle/python Docker image: https://github.com/kaggle/docker-python\n",
    "# For example, here's several helpful packages to load\n",
    "\n",
    "import numpy as np # linear algebra\n",
    "import pandas as pd # data processing, CSV file I/O (e.g. pd.read_csv)\n",
    "\n",
    "# Input data files are available in the read-only \"../input/\" directory\n",
    "# For example, running this (by clicking run or pressing Shift+Enter) will list all files under the input directory\n",
    "\n",
    "import os\n",
    "for dirname, _, filenames in os.walk('/kaggle/input'):\n",
    "    for filename in filenames:\n",
    "        print(os.path.join(dirname, filename))\n",
    "\n",
    "# You can write up to 20GB to the current directory (/kaggle/working/) that gets preserved as output when you create a version using \"Save & Run All\" \n",
    "# You can also write temporary files to /kaggle/temp/, but they won't be saved outside of the current session"
   ]
  },
  {
   "cell_type": "markdown",
   "id": "7a3ad96f",
   "metadata": {
    "papermill": {
     "duration": 0.033679,
     "end_time": "2022-04-01T08:45:40.577280",
     "exception": false,
     "start_time": "2022-04-01T08:45:40.543601",
     "status": "completed"
    },
    "tags": []
   },
   "source": [
    "# 개요\n",
    "[참고한 사이트](https://www.kaggle.com/code/wintersadh/spaceship-titanic-plotly-eda-lgbm-ee4adf/edit) SpaceTitanic Kaggle Competition 링크 글을 참고하여 코드를 따라쓰며 필자가 해석한 부분을 설명하면서 머신러닝에 대해 이해하기 위한 목적으로 작성하게 되었습니다."
   ]
  },
  {
   "cell_type": "markdown",
   "id": "35b70b48",
   "metadata": {
    "papermill": {
     "duration": 0.030507,
     "end_time": "2022-04-01T08:45:40.638791",
     "exception": false,
     "start_time": "2022-04-01T08:45:40.608284",
     "status": "completed"
    },
    "tags": []
   },
   "source": [
    "# Step 1. 라이브러리 및 데이터 불러오기"
   ]
  },
  {
   "cell_type": "code",
   "execution_count": 2,
   "id": "d744b729",
   "metadata": {
    "execution": {
     "iopub.execute_input": "2022-04-01T08:45:40.706622Z",
     "iopub.status.busy": "2022-04-01T08:45:40.705909Z",
     "iopub.status.idle": "2022-04-01T08:45:42.776016Z",
     "shell.execute_reply": "2022-04-01T08:45:42.776625Z",
     "shell.execute_reply.started": "2022-04-01T05:08:46.816126Z"
    },
    "papermill": {
     "duration": 2.106989,
     "end_time": "2022-04-01T08:45:42.776832",
     "exception": false,
     "start_time": "2022-04-01T08:45:40.669843",
     "status": "completed"
    },
    "tags": []
   },
   "outputs": [],
   "source": [
    "import numpy as np\n",
    "import pandas as pd\n",
    "import seaborn as sns\n",
    "import matplotlib.pyplot as plt\n",
    "import warnings\n",
    "warnings.filterwarnings('ignore')\n",
    "\n",
    "import plotly.express as px\n",
    "import plotly.graph_objects as go"
   ]
  },
  {
   "cell_type": "markdown",
   "id": "14dd149c",
   "metadata": {
    "papermill": {
     "duration": 0.032395,
     "end_time": "2022-04-01T08:45:42.841667",
     "exception": false,
     "start_time": "2022-04-01T08:45:42.809272",
     "status": "completed"
    },
    "tags": []
   },
   "source": [
    "- 라이브러리 버전 확인"
   ]
  },
  {
   "cell_type": "code",
   "execution_count": 3,
   "id": "a98c0d1f",
   "metadata": {
    "execution": {
     "iopub.execute_input": "2022-04-01T08:45:42.912344Z",
     "iopub.status.busy": "2022-04-01T08:45:42.910846Z",
     "iopub.status.idle": "2022-04-01T08:45:42.919083Z",
     "shell.execute_reply": "2022-04-01T08:45:42.918513Z",
     "shell.execute_reply.started": "2022-04-01T05:09:56.983693Z"
    },
    "papermill": {
     "duration": 0.044671,
     "end_time": "2022-04-01T08:45:42.919230",
     "exception": false,
     "start_time": "2022-04-01T08:45:42.874559",
     "status": "completed"
    },
    "tags": []
   },
   "outputs": [
    {
     "name": "stdout",
     "output_type": "stream",
     "text": [
      "1.20.3\n",
      "1.3.5\n",
      "0.11.2\n"
     ]
    }
   ],
   "source": [
    "print(np.__version__)\n",
    "print(pd.__version__)\n",
    "print(sns.__version__)"
   ]
  },
  {
   "cell_type": "markdown",
   "id": "5288922d",
   "metadata": {
    "papermill": {
     "duration": 0.031029,
     "end_time": "2022-04-01T08:45:42.981545",
     "exception": false,
     "start_time": "2022-04-01T08:45:42.950516",
     "status": "completed"
    },
    "tags": []
   },
   "source": [
    "- 데이터를 불러올때 저장경로 앞에 r을 쓰는 이유는 \\n, \\r 같은 이스케이프 문자(Escape sequence)를 적용하지 않고 인용 부호 안의 문자를 그대로 출력하는 Raw문자열을 만들기 위함입니다.\n",
    "[참고](https://kkoseul.tistory.com/50)"
   ]
  },
  {
   "cell_type": "code",
   "execution_count": 4,
   "id": "4d183031",
   "metadata": {
    "execution": {
     "iopub.execute_input": "2022-04-01T08:45:43.048751Z",
     "iopub.status.busy": "2022-04-01T08:45:43.048090Z",
     "iopub.status.idle": "2022-04-01T08:45:43.125784Z",
     "shell.execute_reply": "2022-04-01T08:45:43.124851Z",
     "shell.execute_reply.started": "2022-04-01T05:11:58.753274Z"
    },
    "papermill": {
     "duration": 0.113101,
     "end_time": "2022-04-01T08:45:43.125941",
     "exception": false,
     "start_time": "2022-04-01T08:45:43.012840",
     "status": "completed"
    },
    "tags": []
   },
   "outputs": [
    {
     "data": {
      "text/html": [
       "<div>\n",
       "<style scoped>\n",
       "    .dataframe tbody tr th:only-of-type {\n",
       "        vertical-align: middle;\n",
       "    }\n",
       "\n",
       "    .dataframe tbody tr th {\n",
       "        vertical-align: top;\n",
       "    }\n",
       "\n",
       "    .dataframe thead th {\n",
       "        text-align: right;\n",
       "    }\n",
       "</style>\n",
       "<table border=\"1\" class=\"dataframe\">\n",
       "  <thead>\n",
       "    <tr style=\"text-align: right;\">\n",
       "      <th></th>\n",
       "      <th>PassengerId</th>\n",
       "      <th>HomePlanet</th>\n",
       "      <th>CryoSleep</th>\n",
       "      <th>Cabin</th>\n",
       "      <th>Destination</th>\n",
       "      <th>Age</th>\n",
       "      <th>VIP</th>\n",
       "      <th>RoomService</th>\n",
       "      <th>FoodCourt</th>\n",
       "      <th>ShoppingMall</th>\n",
       "      <th>Spa</th>\n",
       "      <th>VRDeck</th>\n",
       "      <th>Name</th>\n",
       "      <th>Transported</th>\n",
       "    </tr>\n",
       "  </thead>\n",
       "  <tbody>\n",
       "    <tr>\n",
       "      <th>0</th>\n",
       "      <td>0001_01</td>\n",
       "      <td>Europa</td>\n",
       "      <td>False</td>\n",
       "      <td>B/0/P</td>\n",
       "      <td>TRAPPIST-1e</td>\n",
       "      <td>39.0</td>\n",
       "      <td>False</td>\n",
       "      <td>0.0</td>\n",
       "      <td>0.0</td>\n",
       "      <td>0.0</td>\n",
       "      <td>0.0</td>\n",
       "      <td>0.0</td>\n",
       "      <td>Maham Ofracculy</td>\n",
       "      <td>False</td>\n",
       "    </tr>\n",
       "    <tr>\n",
       "      <th>1</th>\n",
       "      <td>0002_01</td>\n",
       "      <td>Earth</td>\n",
       "      <td>False</td>\n",
       "      <td>F/0/S</td>\n",
       "      <td>TRAPPIST-1e</td>\n",
       "      <td>24.0</td>\n",
       "      <td>False</td>\n",
       "      <td>109.0</td>\n",
       "      <td>9.0</td>\n",
       "      <td>25.0</td>\n",
       "      <td>549.0</td>\n",
       "      <td>44.0</td>\n",
       "      <td>Juanna Vines</td>\n",
       "      <td>True</td>\n",
       "    </tr>\n",
       "    <tr>\n",
       "      <th>2</th>\n",
       "      <td>0003_01</td>\n",
       "      <td>Europa</td>\n",
       "      <td>False</td>\n",
       "      <td>A/0/S</td>\n",
       "      <td>TRAPPIST-1e</td>\n",
       "      <td>58.0</td>\n",
       "      <td>True</td>\n",
       "      <td>43.0</td>\n",
       "      <td>3576.0</td>\n",
       "      <td>0.0</td>\n",
       "      <td>6715.0</td>\n",
       "      <td>49.0</td>\n",
       "      <td>Altark Susent</td>\n",
       "      <td>False</td>\n",
       "    </tr>\n",
       "    <tr>\n",
       "      <th>3</th>\n",
       "      <td>0003_02</td>\n",
       "      <td>Europa</td>\n",
       "      <td>False</td>\n",
       "      <td>A/0/S</td>\n",
       "      <td>TRAPPIST-1e</td>\n",
       "      <td>33.0</td>\n",
       "      <td>False</td>\n",
       "      <td>0.0</td>\n",
       "      <td>1283.0</td>\n",
       "      <td>371.0</td>\n",
       "      <td>3329.0</td>\n",
       "      <td>193.0</td>\n",
       "      <td>Solam Susent</td>\n",
       "      <td>False</td>\n",
       "    </tr>\n",
       "    <tr>\n",
       "      <th>4</th>\n",
       "      <td>0004_01</td>\n",
       "      <td>Earth</td>\n",
       "      <td>False</td>\n",
       "      <td>F/1/S</td>\n",
       "      <td>TRAPPIST-1e</td>\n",
       "      <td>16.0</td>\n",
       "      <td>False</td>\n",
       "      <td>303.0</td>\n",
       "      <td>70.0</td>\n",
       "      <td>151.0</td>\n",
       "      <td>565.0</td>\n",
       "      <td>2.0</td>\n",
       "      <td>Willy Santantines</td>\n",
       "      <td>True</td>\n",
       "    </tr>\n",
       "  </tbody>\n",
       "</table>\n",
       "</div>"
      ],
      "text/plain": [
       "  PassengerId HomePlanet CryoSleep  Cabin  Destination   Age    VIP  \\\n",
       "0     0001_01     Europa     False  B/0/P  TRAPPIST-1e  39.0  False   \n",
       "1     0002_01      Earth     False  F/0/S  TRAPPIST-1e  24.0  False   \n",
       "2     0003_01     Europa     False  A/0/S  TRAPPIST-1e  58.0   True   \n",
       "3     0003_02     Europa     False  A/0/S  TRAPPIST-1e  33.0  False   \n",
       "4     0004_01      Earth     False  F/1/S  TRAPPIST-1e  16.0  False   \n",
       "\n",
       "   RoomService  FoodCourt  ShoppingMall     Spa  VRDeck               Name  \\\n",
       "0          0.0        0.0           0.0     0.0     0.0    Maham Ofracculy   \n",
       "1        109.0        9.0          25.0   549.0    44.0       Juanna Vines   \n",
       "2         43.0     3576.0           0.0  6715.0    49.0      Altark Susent   \n",
       "3          0.0     1283.0         371.0  3329.0   193.0       Solam Susent   \n",
       "4        303.0       70.0         151.0   565.0     2.0  Willy Santantines   \n",
       "\n",
       "   Transported  \n",
       "0        False  \n",
       "1         True  \n",
       "2        False  \n",
       "3        False  \n",
       "4         True  "
      ]
     },
     "execution_count": 4,
     "metadata": {},
     "output_type": "execute_result"
    }
   ],
   "source": [
    "train = pd.read_csv(r'../input/spaceship-titanic/train.csv')\n",
    "train.head()"
   ]
  },
  {
   "cell_type": "code",
   "execution_count": 5,
   "id": "820505d0",
   "metadata": {
    "execution": {
     "iopub.execute_input": "2022-04-01T08:45:43.200631Z",
     "iopub.status.busy": "2022-04-01T08:45:43.199566Z",
     "iopub.status.idle": "2022-04-01T08:45:43.261968Z",
     "shell.execute_reply": "2022-04-01T08:45:43.262602Z",
     "shell.execute_reply.started": "2022-04-01T05:12:00.899421Z"
    },
    "papermill": {
     "duration": 0.104301,
     "end_time": "2022-04-01T08:45:43.262791",
     "exception": false,
     "start_time": "2022-04-01T08:45:43.158490",
     "status": "completed"
    },
    "tags": []
   },
   "outputs": [
    {
     "data": {
      "text/html": [
       "<div>\n",
       "<style scoped>\n",
       "    .dataframe tbody tr th:only-of-type {\n",
       "        vertical-align: middle;\n",
       "    }\n",
       "\n",
       "    .dataframe tbody tr th {\n",
       "        vertical-align: top;\n",
       "    }\n",
       "\n",
       "    .dataframe thead th {\n",
       "        text-align: right;\n",
       "    }\n",
       "</style>\n",
       "<table border=\"1\" class=\"dataframe\">\n",
       "  <thead>\n",
       "    <tr style=\"text-align: right;\">\n",
       "      <th></th>\n",
       "      <th>PassengerId</th>\n",
       "      <th>HomePlanet</th>\n",
       "      <th>CryoSleep</th>\n",
       "      <th>Cabin</th>\n",
       "      <th>Destination</th>\n",
       "      <th>Age</th>\n",
       "      <th>VIP</th>\n",
       "      <th>RoomService</th>\n",
       "      <th>FoodCourt</th>\n",
       "      <th>ShoppingMall</th>\n",
       "      <th>Spa</th>\n",
       "      <th>VRDeck</th>\n",
       "      <th>Name</th>\n",
       "    </tr>\n",
       "  </thead>\n",
       "  <tbody>\n",
       "    <tr>\n",
       "      <th>0</th>\n",
       "      <td>0013_01</td>\n",
       "      <td>Earth</td>\n",
       "      <td>True</td>\n",
       "      <td>G/3/S</td>\n",
       "      <td>TRAPPIST-1e</td>\n",
       "      <td>27.0</td>\n",
       "      <td>False</td>\n",
       "      <td>0.0</td>\n",
       "      <td>0.0</td>\n",
       "      <td>0.0</td>\n",
       "      <td>0.0</td>\n",
       "      <td>0.0</td>\n",
       "      <td>Nelly Carsoning</td>\n",
       "    </tr>\n",
       "    <tr>\n",
       "      <th>1</th>\n",
       "      <td>0018_01</td>\n",
       "      <td>Earth</td>\n",
       "      <td>False</td>\n",
       "      <td>F/4/S</td>\n",
       "      <td>TRAPPIST-1e</td>\n",
       "      <td>19.0</td>\n",
       "      <td>False</td>\n",
       "      <td>0.0</td>\n",
       "      <td>9.0</td>\n",
       "      <td>0.0</td>\n",
       "      <td>2823.0</td>\n",
       "      <td>0.0</td>\n",
       "      <td>Lerome Peckers</td>\n",
       "    </tr>\n",
       "    <tr>\n",
       "      <th>2</th>\n",
       "      <td>0019_01</td>\n",
       "      <td>Europa</td>\n",
       "      <td>True</td>\n",
       "      <td>C/0/S</td>\n",
       "      <td>55 Cancri e</td>\n",
       "      <td>31.0</td>\n",
       "      <td>False</td>\n",
       "      <td>0.0</td>\n",
       "      <td>0.0</td>\n",
       "      <td>0.0</td>\n",
       "      <td>0.0</td>\n",
       "      <td>0.0</td>\n",
       "      <td>Sabih Unhearfus</td>\n",
       "    </tr>\n",
       "    <tr>\n",
       "      <th>3</th>\n",
       "      <td>0021_01</td>\n",
       "      <td>Europa</td>\n",
       "      <td>False</td>\n",
       "      <td>C/1/S</td>\n",
       "      <td>TRAPPIST-1e</td>\n",
       "      <td>38.0</td>\n",
       "      <td>False</td>\n",
       "      <td>0.0</td>\n",
       "      <td>6652.0</td>\n",
       "      <td>0.0</td>\n",
       "      <td>181.0</td>\n",
       "      <td>585.0</td>\n",
       "      <td>Meratz Caltilter</td>\n",
       "    </tr>\n",
       "    <tr>\n",
       "      <th>4</th>\n",
       "      <td>0023_01</td>\n",
       "      <td>Earth</td>\n",
       "      <td>False</td>\n",
       "      <td>F/5/S</td>\n",
       "      <td>TRAPPIST-1e</td>\n",
       "      <td>20.0</td>\n",
       "      <td>False</td>\n",
       "      <td>10.0</td>\n",
       "      <td>0.0</td>\n",
       "      <td>635.0</td>\n",
       "      <td>0.0</td>\n",
       "      <td>0.0</td>\n",
       "      <td>Brence Harperez</td>\n",
       "    </tr>\n",
       "  </tbody>\n",
       "</table>\n",
       "</div>"
      ],
      "text/plain": [
       "  PassengerId HomePlanet CryoSleep  Cabin  Destination   Age    VIP  \\\n",
       "0     0013_01      Earth      True  G/3/S  TRAPPIST-1e  27.0  False   \n",
       "1     0018_01      Earth     False  F/4/S  TRAPPIST-1e  19.0  False   \n",
       "2     0019_01     Europa      True  C/0/S  55 Cancri e  31.0  False   \n",
       "3     0021_01     Europa     False  C/1/S  TRAPPIST-1e  38.0  False   \n",
       "4     0023_01      Earth     False  F/5/S  TRAPPIST-1e  20.0  False   \n",
       "\n",
       "   RoomService  FoodCourt  ShoppingMall     Spa  VRDeck              Name  \n",
       "0          0.0        0.0           0.0     0.0     0.0   Nelly Carsoning  \n",
       "1          0.0        9.0           0.0  2823.0     0.0    Lerome Peckers  \n",
       "2          0.0        0.0           0.0     0.0     0.0   Sabih Unhearfus  \n",
       "3          0.0     6652.0           0.0   181.0   585.0  Meratz Caltilter  \n",
       "4         10.0        0.0         635.0     0.0     0.0   Brence Harperez  "
      ]
     },
     "execution_count": 5,
     "metadata": {},
     "output_type": "execute_result"
    }
   ],
   "source": [
    "test = pd.read_csv(r'../input/spaceship-titanic/test.csv')\n",
    "test.head()"
   ]
  },
  {
   "cell_type": "code",
   "execution_count": 6,
   "id": "f3d47b4d",
   "metadata": {
    "execution": {
     "iopub.execute_input": "2022-04-01T08:45:43.336365Z",
     "iopub.status.busy": "2022-04-01T08:45:43.334113Z",
     "iopub.status.idle": "2022-04-01T08:45:43.362610Z",
     "shell.execute_reply": "2022-04-01T08:45:43.363145Z",
     "shell.execute_reply.started": "2022-04-01T05:12:03.004301Z"
    },
    "papermill": {
     "duration": 0.066401,
     "end_time": "2022-04-01T08:45:43.363345",
     "exception": false,
     "start_time": "2022-04-01T08:45:43.296944",
     "status": "completed"
    },
    "tags": []
   },
   "outputs": [
    {
     "data": {
      "text/html": [
       "<div>\n",
       "<style scoped>\n",
       "    .dataframe tbody tr th:only-of-type {\n",
       "        vertical-align: middle;\n",
       "    }\n",
       "\n",
       "    .dataframe tbody tr th {\n",
       "        vertical-align: top;\n",
       "    }\n",
       "\n",
       "    .dataframe thead th {\n",
       "        text-align: right;\n",
       "    }\n",
       "</style>\n",
       "<table border=\"1\" class=\"dataframe\">\n",
       "  <thead>\n",
       "    <tr style=\"text-align: right;\">\n",
       "      <th></th>\n",
       "      <th>PassengerId</th>\n",
       "      <th>Transported</th>\n",
       "    </tr>\n",
       "  </thead>\n",
       "  <tbody>\n",
       "    <tr>\n",
       "      <th>0</th>\n",
       "      <td>0013_01</td>\n",
       "      <td>False</td>\n",
       "    </tr>\n",
       "    <tr>\n",
       "      <th>1</th>\n",
       "      <td>0018_01</td>\n",
       "      <td>False</td>\n",
       "    </tr>\n",
       "    <tr>\n",
       "      <th>2</th>\n",
       "      <td>0019_01</td>\n",
       "      <td>False</td>\n",
       "    </tr>\n",
       "    <tr>\n",
       "      <th>3</th>\n",
       "      <td>0021_01</td>\n",
       "      <td>False</td>\n",
       "    </tr>\n",
       "    <tr>\n",
       "      <th>4</th>\n",
       "      <td>0023_01</td>\n",
       "      <td>False</td>\n",
       "    </tr>\n",
       "  </tbody>\n",
       "</table>\n",
       "</div>"
      ],
      "text/plain": [
       "  PassengerId  Transported\n",
       "0     0013_01        False\n",
       "1     0018_01        False\n",
       "2     0019_01        False\n",
       "3     0021_01        False\n",
       "4     0023_01        False"
      ]
     },
     "execution_count": 6,
     "metadata": {},
     "output_type": "execute_result"
    }
   ],
   "source": [
    "sub = pd.read_csv(r'../input/spaceship-titanic/sample_submission.csv')\n",
    "sub.head()"
   ]
  },
  {
   "cell_type": "markdown",
   "id": "801d36a3",
   "metadata": {
    "papermill": {
     "duration": 0.035105,
     "end_time": "2022-04-01T08:45:43.434008",
     "exception": false,
     "start_time": "2022-04-01T08:45:43.398903",
     "status": "completed"
    },
    "tags": []
   },
   "source": [
    "- f-string 포매팅을 이용한 차원 확인"
   ]
  },
  {
   "cell_type": "code",
   "execution_count": 7,
   "id": "abb8b941",
   "metadata": {
    "execution": {
     "iopub.execute_input": "2022-04-01T08:45:43.516718Z",
     "iopub.status.busy": "2022-04-01T08:45:43.515938Z",
     "iopub.status.idle": "2022-04-01T08:45:43.522210Z",
     "shell.execute_reply": "2022-04-01T08:45:43.523411Z",
     "shell.execute_reply.started": "2022-04-01T05:12:06.201605Z"
    },
    "papermill": {
     "duration": 0.0511,
     "end_time": "2022-04-01T08:45:43.523749",
     "exception": false,
     "start_time": "2022-04-01T08:45:43.472649",
     "status": "completed"
    },
    "tags": []
   },
   "outputs": [
    {
     "name": "stdout",
     "output_type": "stream",
     "text": [
      "train set have 8693 rows and 14 columns.\n",
      "test set have 4277 rows and 13 columns.\n",
      "sample_comission set have 4277 rows and 2 columns.\n"
     ]
    }
   ],
   "source": [
    "print(f'train set have {train.shape[0]} rows and {train.shape[1]} columns.')\n",
    "print(f'test set have {test.shape[0]} rows and {test.shape[1]} columns.')\n",
    "print(f'sample_comission set have {sub.shape[0]} rows and {sub.shape[1]} columns.')"
   ]
  },
  {
   "cell_type": "markdown",
   "id": "586db997",
   "metadata": {
    "papermill": {
     "duration": 0.035108,
     "end_time": "2022-04-01T08:45:43.599622",
     "exception": false,
     "start_time": "2022-04-01T08:45:43.564514",
     "status": "completed"
    },
    "tags": []
   },
   "source": [
    "- 데이터 타입 확인"
   ]
  },
  {
   "cell_type": "code",
   "execution_count": 8,
   "id": "72cb7168",
   "metadata": {
    "execution": {
     "iopub.execute_input": "2022-04-01T08:45:43.673838Z",
     "iopub.status.busy": "2022-04-01T08:45:43.673140Z",
     "iopub.status.idle": "2022-04-01T08:45:43.707647Z",
     "shell.execute_reply": "2022-04-01T08:45:43.708483Z",
     "shell.execute_reply.started": "2022-04-01T05:22:02.544848Z"
    },
    "papermill": {
     "duration": 0.073756,
     "end_time": "2022-04-01T08:45:43.708730",
     "exception": false,
     "start_time": "2022-04-01T08:45:43.634974",
     "status": "completed"
    },
    "tags": []
   },
   "outputs": [
    {
     "name": "stdout",
     "output_type": "stream",
     "text": [
      "<class 'pandas.core.frame.DataFrame'>\n",
      "RangeIndex: 8693 entries, 0 to 8692\n",
      "Data columns (total 14 columns):\n",
      " #   Column        Non-Null Count  Dtype  \n",
      "---  ------        --------------  -----  \n",
      " 0   PassengerId   8693 non-null   object \n",
      " 1   HomePlanet    8492 non-null   object \n",
      " 2   CryoSleep     8476 non-null   object \n",
      " 3   Cabin         8494 non-null   object \n",
      " 4   Destination   8511 non-null   object \n",
      " 5   Age           8514 non-null   float64\n",
      " 6   VIP           8490 non-null   object \n",
      " 7   RoomService   8512 non-null   float64\n",
      " 8   FoodCourt     8510 non-null   float64\n",
      " 9   ShoppingMall  8485 non-null   float64\n",
      " 10  Spa           8510 non-null   float64\n",
      " 11  VRDeck        8505 non-null   float64\n",
      " 12  Name          8493 non-null   object \n",
      " 13  Transported   8693 non-null   bool   \n",
      "dtypes: bool(1), float64(6), object(7)\n",
      "memory usage: 891.5+ KB\n"
     ]
    }
   ],
   "source": [
    "train.info()"
   ]
  },
  {
   "cell_type": "markdown",
   "id": "47f30505",
   "metadata": {
    "papermill": {
     "duration": 0.035326,
     "end_time": "2022-04-01T08:45:43.783515",
     "exception": false,
     "start_time": "2022-04-01T08:45:43.748189",
     "status": "completed"
    },
    "tags": []
   },
   "source": [
    "- 컬럼별 레이블의 개수 확인\n",
    "    + data_Frame.nunique() = 데이터셋에 존재하는 컬럼별 레이블의 개수를 확인하기 위해 사용"
   ]
  },
  {
   "cell_type": "code",
   "execution_count": 9,
   "id": "b10abb3b",
   "metadata": {
    "execution": {
     "iopub.execute_input": "2022-04-01T08:45:43.858695Z",
     "iopub.status.busy": "2022-04-01T08:45:43.857957Z",
     "iopub.status.idle": "2022-04-01T08:45:43.888030Z",
     "shell.execute_reply": "2022-04-01T08:45:43.888743Z",
     "shell.execute_reply.started": "2022-04-01T05:15:49.620124Z"
    },
    "papermill": {
     "duration": 0.0694,
     "end_time": "2022-04-01T08:45:43.888957",
     "exception": false,
     "start_time": "2022-04-01T08:45:43.819557",
     "status": "completed"
    },
    "tags": []
   },
   "outputs": [
    {
     "data": {
      "text/plain": [
       "PassengerId     8693\n",
       "HomePlanet         3\n",
       "CryoSleep          2\n",
       "Cabin           6560\n",
       "Destination        3\n",
       "Age               80\n",
       "VIP                2\n",
       "RoomService     1273\n",
       "FoodCourt       1507\n",
       "ShoppingMall    1115\n",
       "Spa             1327\n",
       "VRDeck          1306\n",
       "Name            8473\n",
       "Transported        2\n",
       "dtype: int64"
      ]
     },
     "execution_count": 9,
     "metadata": {},
     "output_type": "execute_result"
    }
   ],
   "source": [
    "train.nunique()"
   ]
  },
  {
   "cell_type": "markdown",
   "id": "28cce5cf",
   "metadata": {
    "papermill": {
     "duration": 0.036593,
     "end_time": "2022-04-01T08:45:43.961522",
     "exception": false,
     "start_time": "2022-04-01T08:45:43.924929",
     "status": "completed"
    },
    "tags": []
   },
   "source": [
    "- 필요없는 칼럼 정리\n",
    "    + drop(inplce = True) : 기존 프레임에 변경된 설정으로 덮어쓰겠다는 의미, 그렇기 때문에 다시 데이터 프레임을 가져왔을때 출력되지 않음. [참고링크](https://www.dinolabs.ai/70)"
   ]
  },
  {
   "cell_type": "code",
   "execution_count": 10,
   "id": "8d4f3d05",
   "metadata": {
    "execution": {
     "iopub.execute_input": "2022-04-01T08:45:44.039158Z",
     "iopub.status.busy": "2022-04-01T08:45:44.038366Z",
     "iopub.status.idle": "2022-04-01T08:45:44.048309Z",
     "shell.execute_reply": "2022-04-01T08:45:44.049077Z",
     "shell.execute_reply.started": "2022-04-01T05:32:20.817757Z"
    },
    "papermill": {
     "duration": 0.051582,
     "end_time": "2022-04-01T08:45:44.049317",
     "exception": false,
     "start_time": "2022-04-01T08:45:43.997735",
     "status": "completed"
    },
    "tags": []
   },
   "outputs": [],
   "source": [
    "train.drop(['PassengerId','Name', 'Cabin'], axis = 1, inplace = True)\n",
    "test.drop(['PassengerId','Name', 'Cabin'], axis = 1, inplace = True)"
   ]
  },
  {
   "cell_type": "markdown",
   "id": "d18f0934",
   "metadata": {
    "papermill": {
     "duration": 0.034454,
     "end_time": "2022-04-01T08:45:44.123390",
     "exception": false,
     "start_time": "2022-04-01T08:45:44.088936",
     "status": "completed"
    },
    "tags": []
   },
   "source": [
    "- 훈련 테스트 결측값 여부 확인\n",
    "    + data_Frame.isnull() method는 관측치가 결측이면 True, 결측이 아니면 False의 boolean 값을 반환\n",
    "    + data_Frame.isnull().sum(): 결측값의 개수를 반환\n",
    "    + [참고링크](https://rfriend.tistory.com/260)"
   ]
  },
  {
   "cell_type": "code",
   "execution_count": 11,
   "id": "363f93a5",
   "metadata": {
    "execution": {
     "iopub.execute_input": "2022-04-01T08:45:44.201931Z",
     "iopub.status.busy": "2022-04-01T08:45:44.201200Z",
     "iopub.status.idle": "2022-04-01T08:45:44.208942Z",
     "shell.execute_reply": "2022-04-01T08:45:44.208232Z",
     "shell.execute_reply.started": "2022-04-01T05:32:33.025481Z"
    },
    "papermill": {
     "duration": 0.050948,
     "end_time": "2022-04-01T08:45:44.209092",
     "exception": false,
     "start_time": "2022-04-01T08:45:44.158144",
     "status": "completed"
    },
    "tags": []
   },
   "outputs": [
    {
     "data": {
      "text/plain": [
       "HomePlanet      201\n",
       "CryoSleep       217\n",
       "Destination     182\n",
       "Age             179\n",
       "VIP             203\n",
       "RoomService     181\n",
       "FoodCourt       183\n",
       "ShoppingMall    208\n",
       "Spa             183\n",
       "VRDeck          188\n",
       "Transported       0\n",
       "dtype: int64"
      ]
     },
     "execution_count": 11,
     "metadata": {},
     "output_type": "execute_result"
    }
   ],
   "source": [
    "train.isnull().sum()"
   ]
  },
  {
   "cell_type": "markdown",
   "id": "06a80d2d",
   "metadata": {
    "papermill": {
     "duration": 0.0352,
     "end_time": "2022-04-01T08:45:44.280699",
     "exception": false,
     "start_time": "2022-04-01T08:45:44.245499",
     "status": "completed"
    },
    "tags": []
   },
   "source": [
    "- 주요 통계량 요약(summary) 전치행렬\n",
    "    + data_frame.describe().T : describe()로 요약한 통계량의 행렬을 바꿈(transpose) \n",
    "    + [참고링크](https://www.geeksforgeeks.org/pandas-dataframe-t-function-in-python/)"
   ]
  },
  {
   "cell_type": "code",
   "execution_count": 12,
   "id": "93d58d68",
   "metadata": {
    "execution": {
     "iopub.execute_input": "2022-04-01T08:45:44.359522Z",
     "iopub.status.busy": "2022-04-01T08:45:44.358283Z",
     "iopub.status.idle": "2022-04-01T08:45:44.392666Z",
     "shell.execute_reply": "2022-04-01T08:45:44.393223Z",
     "shell.execute_reply.started": "2022-04-01T05:41:00.318344Z"
    },
    "papermill": {
     "duration": 0.077473,
     "end_time": "2022-04-01T08:45:44.393405",
     "exception": false,
     "start_time": "2022-04-01T08:45:44.315932",
     "status": "completed"
    },
    "tags": []
   },
   "outputs": [
    {
     "data": {
      "text/html": [
       "<div>\n",
       "<style scoped>\n",
       "    .dataframe tbody tr th:only-of-type {\n",
       "        vertical-align: middle;\n",
       "    }\n",
       "\n",
       "    .dataframe tbody tr th {\n",
       "        vertical-align: top;\n",
       "    }\n",
       "\n",
       "    .dataframe thead th {\n",
       "        text-align: right;\n",
       "    }\n",
       "</style>\n",
       "<table border=\"1\" class=\"dataframe\">\n",
       "  <thead>\n",
       "    <tr style=\"text-align: right;\">\n",
       "      <th></th>\n",
       "      <th>count</th>\n",
       "      <th>mean</th>\n",
       "      <th>std</th>\n",
       "      <th>min</th>\n",
       "      <th>25%</th>\n",
       "      <th>50%</th>\n",
       "      <th>75%</th>\n",
       "      <th>max</th>\n",
       "    </tr>\n",
       "  </thead>\n",
       "  <tbody>\n",
       "    <tr>\n",
       "      <th>Age</th>\n",
       "      <td>8514.0</td>\n",
       "      <td>28.827930</td>\n",
       "      <td>14.489021</td>\n",
       "      <td>0.0</td>\n",
       "      <td>19.0</td>\n",
       "      <td>27.0</td>\n",
       "      <td>38.0</td>\n",
       "      <td>79.0</td>\n",
       "    </tr>\n",
       "    <tr>\n",
       "      <th>RoomService</th>\n",
       "      <td>8512.0</td>\n",
       "      <td>224.687617</td>\n",
       "      <td>666.717663</td>\n",
       "      <td>0.0</td>\n",
       "      <td>0.0</td>\n",
       "      <td>0.0</td>\n",
       "      <td>47.0</td>\n",
       "      <td>14327.0</td>\n",
       "    </tr>\n",
       "    <tr>\n",
       "      <th>FoodCourt</th>\n",
       "      <td>8510.0</td>\n",
       "      <td>458.077203</td>\n",
       "      <td>1611.489240</td>\n",
       "      <td>0.0</td>\n",
       "      <td>0.0</td>\n",
       "      <td>0.0</td>\n",
       "      <td>76.0</td>\n",
       "      <td>29813.0</td>\n",
       "    </tr>\n",
       "    <tr>\n",
       "      <th>ShoppingMall</th>\n",
       "      <td>8485.0</td>\n",
       "      <td>173.729169</td>\n",
       "      <td>604.696458</td>\n",
       "      <td>0.0</td>\n",
       "      <td>0.0</td>\n",
       "      <td>0.0</td>\n",
       "      <td>27.0</td>\n",
       "      <td>23492.0</td>\n",
       "    </tr>\n",
       "    <tr>\n",
       "      <th>Spa</th>\n",
       "      <td>8510.0</td>\n",
       "      <td>311.138778</td>\n",
       "      <td>1136.705535</td>\n",
       "      <td>0.0</td>\n",
       "      <td>0.0</td>\n",
       "      <td>0.0</td>\n",
       "      <td>59.0</td>\n",
       "      <td>22408.0</td>\n",
       "    </tr>\n",
       "    <tr>\n",
       "      <th>VRDeck</th>\n",
       "      <td>8505.0</td>\n",
       "      <td>304.854791</td>\n",
       "      <td>1145.717189</td>\n",
       "      <td>0.0</td>\n",
       "      <td>0.0</td>\n",
       "      <td>0.0</td>\n",
       "      <td>46.0</td>\n",
       "      <td>24133.0</td>\n",
       "    </tr>\n",
       "  </tbody>\n",
       "</table>\n",
       "</div>"
      ],
      "text/plain": [
       "               count        mean          std  min   25%   50%   75%      max\n",
       "Age           8514.0   28.827930    14.489021  0.0  19.0  27.0  38.0     79.0\n",
       "RoomService   8512.0  224.687617   666.717663  0.0   0.0   0.0  47.0  14327.0\n",
       "FoodCourt     8510.0  458.077203  1611.489240  0.0   0.0   0.0  76.0  29813.0\n",
       "ShoppingMall  8485.0  173.729169   604.696458  0.0   0.0   0.0  27.0  23492.0\n",
       "Spa           8510.0  311.138778  1136.705535  0.0   0.0   0.0  59.0  22408.0\n",
       "VRDeck        8505.0  304.854791  1145.717189  0.0   0.0   0.0  46.0  24133.0"
      ]
     },
     "execution_count": 12,
     "metadata": {},
     "output_type": "execute_result"
    }
   ],
   "source": [
    "train.describe().T"
   ]
  },
  {
   "cell_type": "markdown",
   "id": "67afe128",
   "metadata": {
    "papermill": {
     "duration": 0.035819,
     "end_time": "2022-04-01T08:45:44.465737",
     "exception": false,
     "start_time": "2022-04-01T08:45:44.429918",
     "status": "completed"
    },
    "tags": []
   },
   "source": [
    "- 결측값을 missing 으로 변환"
   ]
  },
  {
   "cell_type": "code",
   "execution_count": 13,
   "id": "7226fa78",
   "metadata": {
    "execution": {
     "iopub.execute_input": "2022-04-01T08:45:44.542867Z",
     "iopub.status.busy": "2022-04-01T08:45:44.541801Z",
     "iopub.status.idle": "2022-04-01T08:45:44.558881Z",
     "shell.execute_reply": "2022-04-01T08:45:44.559514Z",
     "shell.execute_reply.started": "2022-04-01T06:08:19.505229Z"
    },
    "papermill": {
     "duration": 0.057459,
     "end_time": "2022-04-01T08:45:44.559704",
     "exception": false,
     "start_time": "2022-04-01T08:45:44.502245",
     "status": "completed"
    },
    "tags": []
   },
   "outputs": [],
   "source": [
    "train['HomePlanet'].replace(np.nan, 'missing', inplace = True)\n",
    "train['CryoSleep'].replace(np.nan, 'missing', inplace = True)\n",
    "train['Destination'].replace(np.nan, 'missing', inplace = True)\n",
    "train['VIP'].replace(np.nan, 'missing', inplace = True)\n",
    "\n",
    "test['HomePlanet'].replace(np.nan, 'missing', inplace = True)\n",
    "test['CryoSleep'].replace(np.nan, 'missing', inplace = True)\n",
    "test['Destination'].replace(np.nan, 'missing', inplace = True)\n",
    "test['VIP'].replace(np.nan, 'missing', inplace = True)"
   ]
  },
  {
   "cell_type": "markdown",
   "id": "126c6931",
   "metadata": {
    "papermill": {
     "duration": 0.035801,
     "end_time": "2022-04-01T08:45:44.632029",
     "exception": false,
     "start_time": "2022-04-01T08:45:44.596228",
     "status": "completed"
    },
    "tags": []
   },
   "source": [
    "- 최빈값 확인\n",
    "    + 가장 빈번하게 관찰/측정 되는 값"
   ]
  },
  {
   "cell_type": "code",
   "execution_count": 14,
   "id": "1c697d5c",
   "metadata": {
    "execution": {
     "iopub.execute_input": "2022-04-01T08:45:44.708965Z",
     "iopub.status.busy": "2022-04-01T08:45:44.707902Z",
     "iopub.status.idle": "2022-04-01T08:45:44.716425Z",
     "shell.execute_reply": "2022-04-01T08:45:44.717027Z",
     "shell.execute_reply.started": "2022-04-01T06:08:22.232665Z"
    },
    "papermill": {
     "duration": 0.048551,
     "end_time": "2022-04-01T08:45:44.717216",
     "exception": false,
     "start_time": "2022-04-01T08:45:44.668665",
     "status": "completed"
    },
    "tags": []
   },
   "outputs": [
    {
     "data": {
      "text/plain": [
       "0    24.0\n",
       "dtype: float64"
      ]
     },
     "execution_count": 14,
     "metadata": {},
     "output_type": "execute_result"
    }
   ],
   "source": [
    "train['Age'].mode()"
   ]
  },
  {
   "cell_type": "code",
   "execution_count": 15,
   "id": "27852b49",
   "metadata": {
    "execution": {
     "iopub.execute_input": "2022-04-01T08:45:44.801839Z",
     "iopub.status.busy": "2022-04-01T08:45:44.794414Z",
     "iopub.status.idle": "2022-04-01T08:45:44.806284Z",
     "shell.execute_reply": "2022-04-01T08:45:44.805729Z",
     "shell.execute_reply.started": "2022-04-01T06:11:51.328588Z"
    },
    "papermill": {
     "duration": 0.052157,
     "end_time": "2022-04-01T08:45:44.806440",
     "exception": false,
     "start_time": "2022-04-01T08:45:44.754283",
     "status": "completed"
    },
    "tags": []
   },
   "outputs": [],
   "source": [
    "train['RoomService'].fillna(train['RoomService'].mean(), inplace = True)\n",
    "train['FoodCourt'].fillna(train['FoodCourt'].mean(), inplace = True)\n",
    "train['ShoppingMall'].fillna(train['ShoppingMall'].mean(), inplace = True)\n",
    "train['Spa'].fillna(train['Spa'].mean(), inplace = True)\n",
    "train['VRDeck'].fillna(train['VRDeck'].mean(), inplace = True)\n",
    "train['Age'].replace(np.nan, 24.0 , inplace = True)"
   ]
  },
  {
   "cell_type": "markdown",
   "id": "9c02d0db",
   "metadata": {
    "papermill": {
     "duration": 0.036782,
     "end_time": "2022-04-01T08:45:44.880364",
     "exception": false,
     "start_time": "2022-04-01T08:45:44.843582",
     "status": "completed"
    },
    "tags": []
   },
   "source": [
    "- 결측값 missing으로 변환됬는지 확인"
   ]
  },
  {
   "cell_type": "code",
   "execution_count": 16,
   "id": "75446c8b",
   "metadata": {
    "execution": {
     "iopub.execute_input": "2022-04-01T08:45:44.963210Z",
     "iopub.status.busy": "2022-04-01T08:45:44.962146Z",
     "iopub.status.idle": "2022-04-01T08:45:44.969620Z",
     "shell.execute_reply": "2022-04-01T08:45:44.969033Z",
     "shell.execute_reply.started": "2022-04-01T06:12:08.784288Z"
    },
    "papermill": {
     "duration": 0.052173,
     "end_time": "2022-04-01T08:45:44.969768",
     "exception": false,
     "start_time": "2022-04-01T08:45:44.917595",
     "status": "completed"
    },
    "tags": []
   },
   "outputs": [
    {
     "data": {
      "text/plain": [
       "HomePlanet      0\n",
       "CryoSleep       0\n",
       "Destination     0\n",
       "Age             0\n",
       "VIP             0\n",
       "RoomService     0\n",
       "FoodCourt       0\n",
       "ShoppingMall    0\n",
       "Spa             0\n",
       "VRDeck          0\n",
       "Transported     0\n",
       "dtype: int64"
      ]
     },
     "execution_count": 16,
     "metadata": {},
     "output_type": "execute_result"
    }
   ],
   "source": [
    "train.isnull().sum()"
   ]
  },
  {
   "cell_type": "markdown",
   "id": "59919959",
   "metadata": {
    "papermill": {
     "duration": 0.036351,
     "end_time": "2022-04-01T08:45:45.043198",
     "exception": false,
     "start_time": "2022-04-01T08:45:45.006847",
     "status": "completed"
    },
    "tags": []
   },
   "source": [
    "# Step 2. 탐색적 자료 분석 (EDA)\n",
    "- 데이터 시각화\n",
    "- 산점도, 막대 그래프 등\n",
    "- 그래프 해석해서 설명을 달아야 함\n",
    "- 약간의 데이터 전처리"
   ]
  },
  {
   "cell_type": "markdown",
   "id": "28bd21b8",
   "metadata": {
    "papermill": {
     "duration": 0.036305,
     "end_time": "2022-04-01T08:45:45.116123",
     "exception": false,
     "start_time": "2022-04-01T08:45:45.079818",
     "status": "completed"
    },
    "tags": []
   },
   "source": [
    "# Step 3. 데이터 전처리\n",
    "- Feature Engineering\n",
    "- ML 모형을 돌리기 위해 표준화 등 / 원핫-인코딩\n",
    "- 파생변수 (도출 변수)\n",
    "    + 왜 이 변수를 만들었는지에 대한 설명 필요"
   ]
  },
  {
   "cell_type": "markdown",
   "id": "b2558b7d",
   "metadata": {
    "papermill": {
     "duration": 0.036096,
     "end_time": "2022-04-01T08:45:45.188439",
     "exception": false,
     "start_time": "2022-04-01T08:45:45.152343",
     "status": "completed"
    },
    "tags": []
   },
   "source": [
    "# Step 4. 머신러닝 모형 개발\n",
    "- 모형에 대한 설명 필요\n",
    "- 모형을 1~2개 사용\n",
    "- 교차 검증\n",
    "- 하이퍼 파라미터 튜닝"
   ]
  },
  {
   "cell_type": "markdown",
   "id": "9aae9e5c",
   "metadata": {
    "papermill": {
     "duration": 0.037588,
     "end_time": "2022-04-01T08:45:45.262903",
     "exception": false,
     "start_time": "2022-04-01T08:45:45.225315",
     "status": "completed"
    },
    "tags": []
   },
   "source": [
    "# Step 5. 모형 평가\n",
    "- 훈련데이터 쪼갠다. 훈련데이터 + 검증데이터 분리\n",
    "- 정확도 비교\n",
    "- 혼동행렬 (Confusion Matrix) 설명"
   ]
  },
  {
   "cell_type": "markdown",
   "id": "93ac9d7a",
   "metadata": {
    "papermill": {
     "duration": 0.036493,
     "end_time": "2022-04-01T08:45:45.336394",
     "exception": false,
     "start_time": "2022-04-01T08:45:45.299901",
     "status": "completed"
    },
    "tags": []
   },
   "source": [
    "# Step 6. 제출\n",
    "- 제출 양식은 샘플 만들어드림"
   ]
  },
  {
   "cell_type": "markdown",
   "id": "86ab6ba5",
   "metadata": {
    "papermill": {
     "duration": 0.036401,
     "end_time": "2022-04-01T08:45:45.409927",
     "exception": false,
     "start_time": "2022-04-01T08:45:45.373526",
     "status": "completed"
    },
    "tags": []
   },
   "source": [
    "# 참고\n",
    "- 다른 사람의 code 설명을 쭉 따라침.\n",
    "- 노트북 표절 방지 위해, 여러분들이 참조한 코드는 반드시 링크 걸어둘 것\n",
    "- 저자 이름, 글 제목, 링크 주소"
   ]
  },
  {
   "cell_type": "markdown",
   "id": "09d9c364",
   "metadata": {
    "papermill": {
     "duration": 0.036463,
     "end_time": "2022-04-01T08:45:45.483734",
     "exception": false,
     "start_time": "2022-04-01T08:45:45.447271",
     "status": "completed"
    },
    "tags": []
   },
   "source": [
    "# 마감일\n",
    "- 4월 12일 17시 40분\n",
    "- 제출 형태\n",
    "    + Leaderboard 랭킹 사진 캡쳐\n",
    "    + 고용노동부 보고 양식 (다음주에 확인해서 알려드림)"
   ]
  }
 ],
 "metadata": {
  "kernelspec": {
   "display_name": "Python 3",
   "language": "python",
   "name": "python3"
  },
  "language_info": {
   "codemirror_mode": {
    "name": "ipython",
    "version": 3
   },
   "file_extension": ".py",
   "mimetype": "text/x-python",
   "name": "python",
   "nbconvert_exporter": "python",
   "pygments_lexer": "ipython3",
   "version": "3.7.12"
  },
  "papermill": {
   "default_parameters": {},
   "duration": 15.551024,
   "end_time": "2022-04-01T08:45:46.230579",
   "environment_variables": {},
   "exception": null,
   "input_path": "__notebook__.ipynb",
   "output_path": "__notebook__.ipynb",
   "parameters": {},
   "start_time": "2022-04-01T08:45:30.679555",
   "version": "2.3.3"
  }
 },
 "nbformat": 4,
 "nbformat_minor": 5
}
